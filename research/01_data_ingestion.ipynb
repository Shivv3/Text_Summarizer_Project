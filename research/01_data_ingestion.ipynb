{
 "cells": [
  {
   "cell_type": "code",
   "execution_count": 5,
   "metadata": {},
   "outputs": [],
   "source": [
    "import os"
   ]
  },
  {
   "cell_type": "code",
   "execution_count": 6,
   "metadata": {},
   "outputs": [
    {
     "data": {
      "text/plain": [
       "'c:\\\\Users\\\\shiva\\\\OneDrive\\\\Desktop\\\\Work\\\\NLP\\\\Projects\\\\Text_Summarizer_Project\\\\research'"
      ]
     },
     "execution_count": 6,
     "metadata": {},
     "output_type": "execute_result"
    }
   ],
   "source": [
    "%pwd\n",
    "\n",
    "#It gives the output as the pwd - present working directory:"
   ]
  },
  {
   "cell_type": "code",
   "execution_count": 7,
   "metadata": {},
   "outputs": [],
   "source": [
    "#Going back from current research folder to root folder where everything is present:\n",
    "os.chdir(\"../\")"
   ]
  },
  {
   "cell_type": "code",
   "execution_count": 8,
   "metadata": {},
   "outputs": [
    {
     "data": {
      "text/plain": [
       "'c:\\\\Users\\\\shiva\\\\OneDrive\\\\Desktop\\\\Work\\\\NLP\\\\Projects\\\\Text_Summarizer_Project'"
      ]
     },
     "execution_count": 8,
     "metadata": {},
     "output_type": "execute_result"
    }
   ],
   "source": [
    "%pwd\n",
    "\n",
    "#Now we are inside our projects-root folder"
   ]
  },
  {
   "cell_type": "markdown",
   "metadata": {},
   "source": [
    "Updating the Entity:"
   ]
  },
  {
   "cell_type": "code",
   "execution_count": null,
   "metadata": {},
   "outputs": [],
   "source": [
    "#Creating Entity:  Defining the return type of the function:\n",
    "from dataclasses import dataclass\n",
    "from pathlib import Path\n",
    "\n",
    "@dataclass(frozen = True)\n",
    "\n",
    "#It is a data class: It defines a custom return type for any function:\n",
    "class DataIngestionConfig:\n",
    "\n",
    "    #Defining variables:\n",
    "    root_dir: Path\n",
    "    source_URL: str\n",
    "    local_data_file: Path\n",
    "    unzip_dir: Path"
   ]
  },
  {
   "cell_type": "markdown",
   "metadata": {},
   "source": [
    "Updating the configuration Manager:"
   ]
  },
  {
   "cell_type": "code",
   "execution_count": null,
   "metadata": {},
   "outputs": [],
   "source": [
    "#Updating the configuration manager: \n",
    "\n",
    "# Import all the constants:\n",
    "from src.textSummarizer.constants import *\n",
    "\n",
    "# Import necessary file from commonly used functions:\n",
    "from src.textSummarizer.utils.common import read_yaml, create_directories"
   ]
  },
  {
   "cell_type": "code",
   "execution_count": 11,
   "metadata": {},
   "outputs": [],
   "source": [
    "#Creating a class of configuration Manager:\n",
    "class ConfigurationManager:\n",
    "\n",
    "    #Defining a constructor with following paramteres:\n",
    "    def __init__(self,config_filepath = CONFIG_FILE_PATH, params_filepath = PARAMS_FILE_PATH):\n",
    "\n",
    "        #Obtaining the config from the file_path:\n",
    "        self.config = read_yaml(config_filepath)\n",
    "        \n",
    "        #Obtaining the paramters from the file_path:\n",
    "        self.params = read_yaml(params_filepath)\n",
    "\n",
    "        #Creating a new artifact: root folder:\n",
    "        create_directories([self.config.artifacts_root])\n",
    "\n",
    "    #Defining a function to get the data ingestion config:\n",
    "    def get_data_ingestion_config(self) -> DataIngestionConfig:\n",
    "\n",
    "        #Obtaining all the values of the current object:\n",
    "        config = self.config.data_ingestion\n",
    "\n",
    "        #Creating a directory for the root directory of the current config:\n",
    "        create_directories([config.root_dir])\n",
    "\n",
    "        #Setting up all the values of class:\n",
    "        data_ingestion_config = DataIngestionConfig(\n",
    "            root_dir = config.root_dir,\n",
    "            source_URL=config.source_URL,\n",
    "            local_data_file=config.local_data_file,\n",
    "            unzip_dir=config.unzip_dir\n",
    "        )\n",
    "\n",
    "\n",
    "        return data_ingestion_config"
   ]
  },
  {
   "cell_type": "markdown",
   "metadata": {},
   "source": [
    "5. Updating the components:\n"
   ]
  },
  {
   "cell_type": "code",
   "execution_count": null,
   "metadata": {},
   "outputs": [],
   "source": [
    "import os\n",
    "\n",
    "#Package used to download the data:\n",
    "import urllib.request as request\n",
    "\n",
    "#Package used to unzip the data after downloading:\n",
    "import zipfile\n",
    "from textSummarizer.logging import logger\n",
    "from textSummarizer.utils.common import get_size"
   ]
  },
  {
   "cell_type": "code",
   "execution_count": null,
   "metadata": {},
   "outputs": [],
   "source": [
    "#Defining the components:\n",
    "class DataIngestion:\n",
    "\n",
    "    #constructor:\n",
    "    def __init__(self,config: DataIngestionConfig):\n",
    "\n",
    "        #Initialising the config:\n",
    "        self.config = config\n",
    "\n",
    "    #A function to download the file:\n",
    "    def download_file(self):\n",
    "\n",
    "        #If the file does not already exist in the file location:\n",
    "        if not os.path.exists(self.config.local_data_file):\n",
    "\n",
    "            #Obraining the filename and headers:\n",
    "            filename, headers = request.urlretrieve(\n",
    "\n",
    "                #Setting up the url:\n",
    "                url = self.config.source_URL,\n",
    "                filename = self.config.local_data_file\n",
    "            )\n",
    "\n",
    "            #Logging that the file has be downloaded:\n",
    "            logger.info(f\"{filename} download! with following info: \\n{headers}\")\n",
    "\n",
    "        #If the file already exist in the file location:\n",
    "        else:\n",
    "\n",
    "            #Logging that the file already exist with its size:\n",
    "            logger.info(f\"File already exists of size: {get_size(Path(self.config.local_data_file))}\")\n",
    "\n",
    "    #A function to Extract the zip file:\n",
    "    def extract_zip_file(self):\n",
    "        \"\"\"\n",
    "        zip_file_path: str\n",
    "        Extracts the zip file into the data dictionary\n",
    "        Function returns None\n",
    "        \"\"\"\n",
    "\n",
    "        #Obtaining the unzip path:\n",
    "        unzip_path = self.config.unzip_dir\n",
    "\n",
    "        #Creating the unzip directory:\n",
    "        os.makedirs(unzip_path,exist_ok=True)\n",
    "\n",
    "        #Extracting zip file and uploading inside my unzip folder:\n",
    "        with zipfile.ZipFile(self.config.local_data_file,'r') as zip_ref:\n",
    "            zip_ref.extractall(unzip_path)"
   ]
  },
  {
   "cell_type": "markdown",
   "metadata": {},
   "source": [
    "6. Updating the Pipeline:"
   ]
  },
  {
   "cell_type": "code",
   "execution_count": 14,
   "metadata": {},
   "outputs": [
    {
     "name": "stdout",
     "output_type": "stream",
     "text": [
      "[2025-03-27 01:47:08,009: INFO: common: yaml file: config\\config.yaml loaded successfully]\n",
      "[2025-03-27 01:47:08,033: INFO: common: yaml file: params.yaml loaded successfully]\n",
      "[2025-03-27 01:47:08,038: INFO: common: created directory at: artifacts]\n",
      "[2025-03-27 01:47:08,040: INFO: common: created directory at: artifacts/data_ingestion]\n",
      "[2025-03-27 01:47:13,548: INFO: 2590737820: artifacts/data_ingestion/data.zip download! with following info: \n",
      "Connection: close\n",
      "Content-Length: 7903594\n",
      "Cache-Control: max-age=300\n",
      "Content-Security-Policy: default-src 'none'; style-src 'unsafe-inline'; sandbox\n",
      "Content-Type: application/zip\n",
      "ETag: \"dbc016a060da18070593b83afff580c9b300f0b6ea4147a7988433e04df246ca\"\n",
      "Strict-Transport-Security: max-age=31536000\n",
      "X-Content-Type-Options: nosniff\n",
      "X-Frame-Options: deny\n",
      "X-XSS-Protection: 1; mode=block\n",
      "X-GitHub-Request-Id: 3C4C:2A8E62:935D6:14E32E:67E460C5\n",
      "Accept-Ranges: bytes\n",
      "Date: Wed, 26 Mar 2025 20:17:10 GMT\n",
      "Via: 1.1 varnish\n",
      "X-Served-By: cache-del21721-DEL\n",
      "X-Cache: MISS\n",
      "X-Cache-Hits: 0\n",
      "X-Timer: S1743020229.454679,VS0,VE903\n",
      "Vary: Authorization,Accept-Encoding,Origin\n",
      "Access-Control-Allow-Origin: *\n",
      "Cross-Origin-Resource-Policy: cross-origin\n",
      "X-Fastly-Request-ID: 55dfbfc5731cebb10d86ef91757ef2b0e8a56cd8\n",
      "Expires: Wed, 26 Mar 2025 20:22:10 GMT\n",
      "Source-Age: 1\n",
      "\n",
      "]\n"
     ]
    }
   ],
   "source": [
    "try:\n",
    "    #Creating a configuration manager object:\n",
    "    config = ConfigurationManager()\n",
    "\n",
    "    #Obtaining the data ingestion components:\n",
    "    data_ingestion_config = config.get_data_ingestion_config()\n",
    "\n",
    "    #Calling the data ingestion components: Intialising the components of all the data ingestion by initialising an object:\n",
    "    data_ingestion = DataIngestion(config=data_ingestion_config)\n",
    "\n",
    "    #Downloading the file:\n",
    "    data_ingestion.download_file()\n",
    "\n",
    "    #Extracting the zip_file:\n",
    "    data_ingestion.extract_zip_file()\n",
    "\n",
    "except Exception as e:\n",
    "    raise e\n"
   ]
  },
  {
   "cell_type": "code",
   "execution_count": null,
   "metadata": {},
   "outputs": [],
   "source": []
  }
 ],
 "metadata": {
  "kernelspec": {
   "display_name": "textSummarization",
   "language": "python",
   "name": "python3"
  },
  "language_info": {
   "codemirror_mode": {
    "name": "ipython",
    "version": 3
   },
   "file_extension": ".py",
   "mimetype": "text/x-python",
   "name": "python",
   "nbconvert_exporter": "python",
   "pygments_lexer": "ipython3",
   "version": "3.12.6"
  }
 },
 "nbformat": 4,
 "nbformat_minor": 2
}
