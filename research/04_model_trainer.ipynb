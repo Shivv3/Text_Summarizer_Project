{
 "cells": [
  {
   "cell_type": "code",
   "execution_count": 1,
   "metadata": {},
   "outputs": [],
   "source": [
    "import os"
   ]
  },
  {
   "cell_type": "code",
   "execution_count": 2,
   "metadata": {},
   "outputs": [
    {
     "data": {
      "text/plain": [
       "'c:\\\\Users\\\\shiva\\\\OneDrive\\\\Desktop\\\\Work\\\\NLP\\\\Projects\\\\Text_Summarizer_Project\\\\research'"
      ]
     },
     "execution_count": 2,
     "metadata": {},
     "output_type": "execute_result"
    }
   ],
   "source": [
    "%pwd"
   ]
  },
  {
   "cell_type": "code",
   "execution_count": 3,
   "metadata": {},
   "outputs": [],
   "source": [
    "os.chdir(\"../\")"
   ]
  },
  {
   "cell_type": "code",
   "execution_count": null,
   "metadata": {},
   "outputs": [
    {
     "data": {
      "text/plain": [
       "'c:\\\\Users\\\\shiva\\\\OneDrive\\\\Desktop\\\\Work\\\\NLP\\\\Projects\\\\Text_Summarizer_Project'"
      ]
     },
     "execution_count": 4,
     "metadata": {},
     "output_type": "execute_result"
    }
   ],
   "source": [
    "%pwd"
   ]
  },
  {
   "cell_type": "markdown",
   "metadata": {},
   "source": [
    "Defining the Entity"
   ]
  },
  {
   "cell_type": "code",
   "execution_count": 5,
   "metadata": {},
   "outputs": [],
   "source": [
    "from dataclasses import dataclass\n",
    "from pathlib import Path\n",
    "\n",
    "@dataclass\n",
    "class ModelTrainerConfig:\n",
    "    root_dir: str\n",
    "    data_path: str\n",
    "    model_ckpt: str\n",
    "    num_train_epochs: int\n",
    "    warmup_steps: int\n",
    "    per_device_train_batch_size: int\n",
    "    gradient_accumulation_steps: int\n",
    "    weight_decay: float\n",
    "    logging_steps: int\n",
    "    evaluation_strategy: str\n",
    "    eval_steps: int\n",
    "    save_steps: int\n",
    "    per_device_eval_batch_size: int\n",
    "        \n"
   ]
  },
  {
   "cell_type": "markdown",
   "metadata": {},
   "source": [
    "Defining the configuration manager:"
   ]
  },
  {
   "cell_type": "code",
   "execution_count": 6,
   "metadata": {},
   "outputs": [],
   "source": [
    "from textSummarizer.constants import *\n",
    "from textSummarizer.utils.common import read_yaml,create_directories"
   ]
  },
  {
   "cell_type": "code",
   "execution_count": 7,
   "metadata": {},
   "outputs": [],
   "source": [
    "class ConfigurationManager:\n",
    "    \n",
    "    #Defining a constructor with following paramteres:\n",
    "    def __init__(self,config_filepath = CONFIG_FILE_PATH, params_filepath = PARAMS_FILE_PATH):\n",
    "\n",
    "        #Obtaining the config from the file_path:\n",
    "        self.config = read_yaml(config_filepath)\n",
    "        \n",
    "        #Obtaining the paramters from the file_path:\n",
    "        self.params = read_yaml(params_filepath)\n",
    "\n",
    "        #Creating a new artifact: root folder:\n",
    "        create_directories([self.config.artifacts_root])\n",
    "\n",
    "    \n",
    "    #Defining the function for obtaining the model trainer config:\n",
    "    def get_model_trainer_config(self) -> ModelTrainerConfig:\n",
    "\n",
    "        #Obtaining the configuration:\n",
    "        config = self.config.model_trainer\n",
    "\n",
    "        #Obtaining the parameters:\n",
    "        params = self.params.TrainingArguments\n",
    "\n",
    "        #Creating a directory storing the configuration root directory:\n",
    "        create_directories([config.root_dir])\n",
    "\n",
    "        #Creating the model_trainer config:\n",
    "        model_trainer_config = ModelTrainerConfig(\n",
    "\n",
    "            #Setting up all the values:\n",
    "            root_dir=config.root_dir,\n",
    "            data_path=config.data_path,\n",
    "            model_ckpt=config.model_ckpt,\n",
    "            num_train_epochs=params.num_train_epochs,\n",
    "            warmup_steps=params.warmup_steps,\n",
    "            per_device_train_batch_size=params.per_device_train_batch_size,\n",
    "            weight_decay=params.weight_decay,\n",
    "            logging_steps=params.logging_steps,\n",
    "            evaluation_strategy=params.evaluation_strategy,\n",
    "            eval_steps= params.eval_steps,\n",
    "            save_steps=max(1,(params.eval_steps*((params.num_train_epochs//10) or 1))),\n",
    "            gradient_accumulation_steps=params.gradient_accumulation_steps,\n",
    "            per_device_eval_batch_size=params.per_device_eval_batch_size,\n",
    "        )\n",
    "\n",
    "        return model_trainer_config\n"
   ]
  },
  {
   "cell_type": "markdown",
   "metadata": {},
   "source": [
    "Creating the components:"
   ]
  },
  {
   "cell_type": "code",
   "execution_count": 8,
   "metadata": {},
   "outputs": [
    {
     "name": "stderr",
     "output_type": "stream",
     "text": [
      "c:\\Users\\shiva\\OneDrive\\Desktop\\Work\\NLP\\Projects\\Text_Summarizer_Project\\textSummarization\\Lib\\site-packages\\tqdm\\auto.py:21: TqdmWarning: IProgress not found. Please update jupyter and ipywidgets. See https://ipywidgets.readthedocs.io/en/stable/user_install.html\n",
      "  from .autonotebook import tqdm as notebook_tqdm\n"
     ]
    },
    {
     "name": "stdout",
     "output_type": "stream",
     "text": [
      "[2025-04-04 11:30:19,617: INFO: config: PyTorch version 2.6.0 available.]\n"
     ]
    }
   ],
   "source": [
    "from transformers import TrainingArguments, Trainer\n",
    "from transformers import DataCollatorForSeq2Seq\n",
    "from transformers import AutoModelForSeq2SeqLM,AutoTokenizer\n",
    "from datasets import load_dataset, load_from_disk\n",
    "import torch"
   ]
  },
  {
   "cell_type": "code",
   "execution_count": 9,
   "metadata": {},
   "outputs": [],
   "source": [
    "class ModelTrainer:\n",
    "\n",
    "    #Constructor:\n",
    "    def __init__(self, config: ModelTrainerConfig):\n",
    "        self.config = config\n",
    "\n",
    "    #A function to train the model:\n",
    "    def train(self):\n",
    "\n",
    "        # Setting up the device:\n",
    "        device = \"cuda\" if torch.cuda.is_available() else \"cpu\"\n",
    "\n",
    "        # Setting up the tokenizer:\n",
    "        tokenizer = AutoTokenizer.from_pretrained(self.config.model_ckpt)\n",
    "\n",
    "        #Loading the data:\n",
    "        dataset_samsum_pt = load_from_disk(self.config.data_path)\n",
    "\n",
    "        dataset_samsum_pt = dataset_samsum_pt.remove_columns(\n",
    "            [col for col in dataset_samsum_pt[\"train\"].column_names if col not in [\"input_ids\", \"attention_mask\", \"labels\"]]\n",
    "        )\n",
    "        dataset_samsum_pt.set_format(type=\"torch\", columns=[\"input_ids\", \"attention_mask\", \"labels\"])\n",
    "\n",
    "\n",
    "        # Setting up the model:\n",
    "        model_pegasus = AutoModelForSeq2SeqLM.from_pretrained(self.config.model_ckpt).to(device)\n",
    "    \n",
    "\n",
    "        # Setting up the seq2seq2 Collator:\n",
    "        seq2seq_data_collator = DataCollatorForSeq2Seq(\n",
    "            tokenizer,\n",
    "            model=model_pegasus,\n",
    "            label_pad_token_id=-100,\n",
    "        )\n",
    "\n",
    "        checkpoint_dir = os.path.join(self.config.root_dir, \"checkpoints\")\n",
    "        os.makedirs(checkpoint_dir, exist_ok=True)\n",
    "\n",
    "        last_checkpoint = None\n",
    "        checkpoint_files = sorted(\n",
    "            [f for f in os.listdir(checkpoint_dir) if f.startswith(\"checkpoint-\")],\n",
    "            key=lambda x: int(x.split(\"-\")[-1]) if x.split(\"-\")[-1].isdigit() else 0\n",
    "        )\n",
    "        \n",
    "        if checkpoint_files:\n",
    "            last_checkpoint = os.path.join(checkpoint_dir, checkpoint_files[-1])\n",
    "            print(f\"Resuming training from checkpoint: {last_checkpoint}\")\n",
    "        else:\n",
    "            print(\"No checkpoint found, training from scratch...\")\n",
    "        \n",
    "\n",
    "        #Setting up the training argumets: Reading the paramters from params.yaml:\n",
    "        trainer_args = TrainingArguments(\n",
    "            output_dir = os.path.join(self.config.root_dir,\"checkpoints\"),\n",
    "            num_train_epochs = self.config.num_train_epochs,\n",
    "            warmup_steps = self.config.warmup_steps,\n",
    "            per_device_train_batch_size=self.config.per_device_train_batch_size,\n",
    "            per_device_eval_batch_size=self.config.per_device_eval_batch_size,\n",
    "            weight_decay= self.config.weight_decay,\n",
    "            logging_steps=self.config.logging_steps*2, \n",
    "            evaluation_strategy=\"steps\",\n",
    "            eval_steps=self.config.eval_steps,\n",
    "            save_strategy = \"steps\",\n",
    "            save_steps = 25,\n",
    "            gradient_accumulation_steps=self.config.gradient_accumulation_steps,\n",
    "            save_total_limit=2,\n",
    "            report_to = \"none\",\n",
    "            load_best_model_at_end=True,\n",
    "            remove_unused_columns=False\n",
    "        )\n",
    "\n",
    "        # Initialising the trainer:\n",
    "        trainer = Trainer(\n",
    "            model = model_pegasus,\n",
    "            args = trainer_args,\n",
    "            tokenizer = tokenizer,\n",
    "            data_collator= seq2seq_data_collator,\n",
    "            train_dataset=dataset_samsum_pt[\"train\"],\n",
    "            eval_dataset= dataset_samsum_pt[\"validation\"])\n",
    "        \n",
    "        #Training the trainer:\n",
    "        trainer.train(resume_from_checkpoint = last_checkpoint)\n",
    "\n",
    "        #Saving the model:\n",
    "        model_pegasus.save_pretrained(os.path.join(self.config.root_dir,\"pegasus-samsum-model\"))\n",
    "\n",
    "        #Saving the tokenizer:\n",
    "        tokenizer.save_pretrained(os.path.join(self.config.root_dir,\"tokenizer\"))\n",
    "    "
   ]
  },
  {
   "cell_type": "code",
   "execution_count": 10,
   "metadata": {},
   "outputs": [],
   "source": [
    "import os\n",
    "os.environ[\"OMP_NUM_THREADS\"] = \"4\"  "
   ]
  },
  {
   "cell_type": "markdown",
   "metadata": {},
   "source": [
    "Creating the pipeline:"
   ]
  },
  {
   "cell_type": "code",
   "execution_count": 1,
   "metadata": {},
   "outputs": [
    {
     "ename": "NameError",
     "evalue": "name 'ConfigurationManager' is not defined",
     "output_type": "error",
     "traceback": [
      "\u001b[31m---------------------------------------------------------------------------\u001b[39m",
      "\u001b[31mNameError\u001b[39m                                 Traceback (most recent call last)",
      "\u001b[36mCell\u001b[39m\u001b[36m \u001b[39m\u001b[32mIn[1]\u001b[39m\u001b[32m, line 15\u001b[39m\n\u001b[32m     12\u001b[39m     model_trainer_config.train()\n\u001b[32m     14\u001b[39m \u001b[38;5;28;01mexcept\u001b[39;00m \u001b[38;5;167;01mException\u001b[39;00m \u001b[38;5;28;01mas\u001b[39;00m e:\n\u001b[32m---> \u001b[39m\u001b[32m15\u001b[39m     \u001b[38;5;28;01mraise\u001b[39;00m e\n",
      "\u001b[36mCell\u001b[39m\u001b[36m \u001b[39m\u001b[32mIn[1]\u001b[39m\u001b[32m, line 3\u001b[39m\n\u001b[32m      1\u001b[39m \u001b[38;5;28;01mtry\u001b[39;00m: \n\u001b[32m      2\u001b[39m     \u001b[38;5;66;03m#Intialising the configuration manager:\u001b[39;00m\n\u001b[32m----> \u001b[39m\u001b[32m3\u001b[39m     config = \u001b[43mConfigurationManager\u001b[49m()\n\u001b[32m      5\u001b[39m     \u001b[38;5;66;03m#Obtaining the model configuration:\u001b[39;00m\n\u001b[32m      6\u001b[39m     model_trainer_config = config.get_model_trainer_config()\n",
      "\u001b[31mNameError\u001b[39m: name 'ConfigurationManager' is not defined"
     ]
    }
   ],
   "source": [
    "try: \n",
    "    #Intialising the configuration manager:\n",
    "    config = ConfigurationManager()\n",
    "\n",
    "    #Obtaining the model configuration:\n",
    "    model_trainer_config = config.get_model_trainer_config()\n",
    "\n",
    "    #Applying the model_trainer_config into model_trainer object:\n",
    "    model_trainer_config = ModelTrainer(config = model_trainer_config)\n",
    "\n",
    "    #Calling the train function:\n",
    "    model_trainer_config.train()\n",
    "\n",
    "except Exception as e:\n",
    "    raise e"
   ]
  },
  {
   "cell_type": "code",
   "execution_count": null,
   "metadata": {},
   "outputs": [],
   "source": []
  }
 ],
 "metadata": {
  "kernelspec": {
   "display_name": "textSummarization",
   "language": "python",
   "name": "python3"
  },
  "language_info": {
   "codemirror_mode": {
    "name": "ipython",
    "version": 3
   },
   "file_extension": ".py",
   "mimetype": "text/x-python",
   "name": "python",
   "nbconvert_exporter": "python",
   "pygments_lexer": "ipython3",
   "version": "3.12.6"
  }
 },
 "nbformat": 4,
 "nbformat_minor": 2
}
